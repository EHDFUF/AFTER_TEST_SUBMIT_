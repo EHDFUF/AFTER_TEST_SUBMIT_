{
  "nbformat": 4,
  "nbformat_minor": 0,
  "metadata": {
    "colab": {
      "provenance": [],
      "authorship_tag": "ABX9TyNwE73lKdHIHZ9MfWzsYoLQ",
      "include_colab_link": true
    },
    "kernelspec": {
      "name": "python3",
      "display_name": "Python 3"
    },
    "language_info": {
      "name": "python"
    }
  },
  "cells": [
    {
      "cell_type": "markdown",
      "metadata": {
        "id": "view-in-github",
        "colab_type": "text"
      },
      "source": [
        "<a href=\"https://colab.research.google.com/github/EHDFUF/AFTER_TEST_SUBMIT_/blob/main/10_202510781_%EA%B9%80%EB%8F%99%EB%A0%AC.ipynb\" target=\"_parent\"><img src=\"https://colab.research.google.com/assets/colab-badge.svg\" alt=\"Open In Colab\"/></a>"
      ]
    },
    {
      "cell_type": "markdown",
      "source": [],
      "metadata": {
        "id": "OTmivB1ErKhX"
      }
    },
    {
      "cell_type": "code",
      "execution_count": 1,
      "metadata": {
        "colab": {
          "base_uri": "https://localhost:8080/"
        },
        "id": "xZQK6wCxq5Ri",
        "outputId": "c3f13d07-65be-4bcc-c3a7-47137f8aa696"
      },
      "outputs": [
        {
          "output_type": "stream",
          "name": "stdout",
          "text": [
            "8 2 15 1.6666666666666667 1 2 125\n"
          ]
        }
      ],
      "source": [
        "a=5; b=3\n",
        "print(a+b, a-b, a*b, a/b, a//b, a%b, a**b)"
      ]
    },
    {
      "cell_type": "code",
      "source": [
        "a=99\n",
        "\n",
        "print((a>100)and(a<200))\n",
        "\n",
        "print((a>100)or(a<200))\n",
        "\n",
        "print(not(a==100))"
      ],
      "metadata": {
        "colab": {
          "base_uri": "https://localhost:8080/"
        },
        "id": "-D71GXLXrTsz",
        "outputId": "c28edca4-6419-41ef-b4e9-bba108e9837a"
      },
      "execution_count": 5,
      "outputs": [
        {
          "output_type": "stream",
          "name": "stdout",
          "text": [
            "False\n",
            "True\n",
            "True\n"
          ]
        }
      ]
    },
    {
      "cell_type": "code",
      "source": [
        "a,b=100,200\n",
        "\n",
        "print(a==b, a!=b, a>b, a<b, a>=b,a<=b)"
      ],
      "metadata": {
        "colab": {
          "base_uri": "https://localhost:8080/"
        },
        "id": "Xe-gwBqwrL_d",
        "outputId": "14d912f3-0e27-412b-f8f3-efe5d0595aa0"
      },
      "execution_count": 2,
      "outputs": [
        {
          "output_type": "stream",
          "name": "stdout",
          "text": [
            "False True False True False True\n"
          ]
        }
      ]
    },
    {
      "cell_type": "code",
      "source": [
        "num = int(input(\"정수 입력:\"))\n",
        "\n",
        "if num%2 == 0:\n",
        "    print(\"짝수\")\n",
        "else:\n",
        "    print(\"홀수\")"
      ],
      "metadata": {
        "colab": {
          "base_uri": "https://localhost:8080/"
        },
        "id": "VLXtKd59rttd",
        "outputId": "7e7f28c0-b427-475c-9006-536c65d3a4a8"
      },
      "execution_count": 6,
      "outputs": [
        {
          "output_type": "stream",
          "name": "stdout",
          "text": [
            "정수 입력:2\n",
            "짝수\n"
          ]
        }
      ]
    },
    {
      "cell_type": "code",
      "source": [
        "score = int(input(\"점수 입력:\"))\n",
        "\n",
        "if score > 90:\n",
        "\n",
        "    print(\"합격\")\n",
        "    print(\"장학금 수여 가능\")"
      ],
      "metadata": {
        "colab": {
          "base_uri": "https://localhost:8080/"
        },
        "id": "4G7VWUlbr70H",
        "outputId": "a2635ec8-83df-4087-fea7-3f6d4fae0975"
      },
      "execution_count": 7,
      "outputs": [
        {
          "output_type": "stream",
          "name": "stdout",
          "text": [
            "점수 입력:91\n",
            "합격\n",
            "장학금 수여 가능\n"
          ]
        }
      ]
    },
    {
      "cell_type": "code",
      "source": [
        "age = int(input(\"나이 입력:\"))\n",
        "\n",
        "if age >= 15:\n",
        "\n",
        "    print(\"영화 관람 가능\")\n",
        "    print(\"관람료 = 20000원\")\n",
        "\n",
        "else:\n",
        "\n",
        "    print(\"영화 관람 불가\")"
      ],
      "metadata": {
        "colab": {
          "base_uri": "https://localhost:8080/"
        },
        "id": "5RBYss7isJrJ",
        "outputId": "8f4457e4-18e1-4623-867b-15e5052f560d"
      },
      "execution_count": 8,
      "outputs": [
        {
          "output_type": "stream",
          "name": "stdout",
          "text": [
            "나이 입력:16\n",
            "영화 관람 가능\n",
            "관람료 = 20000원\n"
          ]
        }
      ]
    },
    {
      "cell_type": "markdown",
      "source": [],
      "metadata": {
        "id": "0ejewrKssJXf"
      }
    },
    {
      "cell_type": "code",
      "source": [
        "num = int(input(\"숫자 입력:\"))\n",
        "\n",
        "if num >= 0:\n",
        "\n",
        "    print(\"해당 숫자 양수\")\n",
        "\n",
        "else:\n",
        "\n",
        "    print(\"해당 숫자 음수\")"
      ],
      "metadata": {
        "colab": {
          "base_uri": "https://localhost:8080/"
        },
        "id": "CAxiiROQsUO0",
        "outputId": "1538ae19-00ba-438d-c9d7-60382493f457"
      },
      "execution_count": 9,
      "outputs": [
        {
          "output_type": "stream",
          "name": "stdout",
          "text": [
            "숫자 입력:0\n",
            "해당 숫자 양수\n"
          ]
        }
      ]
    }
  ]
}