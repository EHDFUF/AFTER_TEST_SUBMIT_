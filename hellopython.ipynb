{
  "nbformat": 4,
  "nbformat_minor": 0,
  "metadata": {
    "colab": {
      "provenance": [],
      "authorship_tag": "ABX9TyPKcCuVLx/WwRLZcBeY8ZUF",
      "include_colab_link": true
    },
    "kernelspec": {
      "name": "python3",
      "display_name": "Python 3"
    },
    "language_info": {
      "name": "python"
    }
  },
  "cells": [
    {
      "cell_type": "markdown",
      "metadata": {
        "id": "view-in-github",
        "colab_type": "text"
      },
      "source": [
        "<a href=\"https://colab.research.google.com/github/EHDFUF/10-weeks-sub/blob/10-weeks-sub/hellopython.ipynb\" target=\"_parent\"><img src=\"https://colab.research.google.com/assets/colab-badge.svg\" alt=\"Open In Colab\"/></a>"
      ]
    },
    {
      "cell_type": "code",
      "execution_count": null,
      "metadata": {
        "colab": {
          "base_uri": "https://localhost:8080/"
        },
        "id": "TYN3vbDHaq81",
        "outputId": "2d5371ae-8d79-4f7d-a3d1-be0dcd038217"
      },
      "outputs": [
        {
          "output_type": "stream",
          "name": "stdout",
          "text": [
            "hello\n"
          ]
        }
      ],
      "source": [
        "print(\"hello\")"
      ]
    },
    {
      "cell_type": "code",
      "source": [
        "score_math = [92,90,73,34,100]\n",
        "score_eng = [44,67,98,75,99]"
      ],
      "metadata": {
        "id": "K0YehEo5bh-Q"
      },
      "execution_count": null,
      "outputs": []
    },
    {
      "cell_type": "code",
      "source": [
        "score_math"
      ],
      "metadata": {
        "id": "Kxw8yskmenR-"
      },
      "execution_count": null,
      "outputs": []
    },
    {
      "cell_type": "code",
      "source": [
        "score_eng"
      ],
      "metadata": {
        "id": "Zb_OE0dTeqxE"
      },
      "execution_count": null,
      "outputs": []
    },
    {
      "cell_type": "code",
      "source": [
        "score_math,append(25)\n",
        "score_eng.append(95)\n",
        "score_math\n",
        "score_eng"
      ],
      "metadata": {
        "id": "2PmR1nDresio"
      },
      "execution_count": null,
      "outputs": []
    },
    {
      "cell_type": "code",
      "source": [
        "score_math.insert(1,100)\n",
        "score_eng.insert(1,0)\n",
        "score_math\n",
        "score_eng"
      ],
      "metadata": {
        "id": "YPgEUX77e0IA"
      },
      "execution_count": null,
      "outputs": []
    },
    {
      "cell_type": "code",
      "source": [
        "waiting_am = ['김수뭉', '이상명', '박자하']\n",
        "waiting_pm = ['최월해', '문드림', '조미래']\n",
        "\n",
        "waiting_total = waiting_am + waiting_pm\n",
        "waiting_total"
      ],
      "metadata": {
        "id": "QKDVsDkTe6Ya"
      },
      "execution_count": null,
      "outputs": []
    },
    {
      "cell_type": "code",
      "source": [
        "waiting_total.pop()\n",
        "waiting_total"
      ],
      "metadata": {
        "id": "jNo1kGrRfKFu"
      },
      "execution_count": null,
      "outputs": []
    },
    {
      "cell_type": "code",
      "source": [
        "del waiting_total[2]\n",
        "waiting_total"
      ],
      "metadata": {
        "id": "hbTWM-9MfOty"
      },
      "execution_count": null,
      "outputs": []
    },
    {
      "cell_type": "code",
      "source": [
        "waiting_total * 3"
      ],
      "metadata": {
        "id": "XGYEjhlqfRYt"
      },
      "execution_count": null,
      "outputs": []
    },
    {
      "cell_type": "code",
      "source": [
        "icecream = ['민초', '바닐라', '초코']\n",
        "icecream"
      ],
      "metadata": {
        "id": "WJrbnSrgfS-G"
      },
      "execution_count": null,
      "outputs": []
    },
    {
      "cell_type": "code",
      "source": [
        "icecream.append('딸기')\n",
        "icecream"
      ],
      "metadata": {
        "id": "in1AdGikfYJj"
      },
      "execution_count": null,
      "outputs": []
    },
    {
      "cell_type": "code",
      "source": [
        "icecream.pop()\n",
        "icecream"
      ],
      "metadata": {
        "id": "YxskbPfKfc63"
      },
      "execution_count": null,
      "outputs": []
    },
    {
      "cell_type": "code",
      "source": [
        "cup = icecream.pop()\n",
        "cup\n",
        "\n",
        "icecream\n",
        "\n",
        "icecream.pop()\n",
        "\n",
        "icecream"
      ],
      "metadata": {
        "id": "NbFUjq3Bfg8h"
      },
      "execution_count": null,
      "outputs": []
    },
    {
      "cell_type": "code",
      "source": [
        "delivery = []\n",
        "\n",
        "delivery.append('제1공학관')\n",
        "delivery.append('월해관')\n",
        "delivery.append('자하관')\n",
        "delivery.append('사범대')\n",
        "delivery.append('밀레니엄관')\n",
        "delivery"
      ],
      "metadata": {
        "id": "c5tNB6TufgxP"
      },
      "execution_count": null,
      "outputs": []
    },
    {
      "cell_type": "code",
      "source": [
        "delivery.pop(0)\n",
        "delivery.pop(0)\n",
        "delivery.pop(0)\n",
        "delivery.pop(0)\n",
        "delivery.pop(0)"
      ],
      "metadata": {
        "id": "TmPOhEBthg_z"
      },
      "execution_count": null,
      "outputs": []
    },
    {
      "cell_type": "code",
      "source": [
        "bus_line = ['김수몽', '이사슴', '박밀레']\n",
        "bus_line.append('최자하')\n",
        "bus_line\n",
        "\n",
        "bus_seat = ['구백년', '서교수']\n",
        "bus_seat\n",
        "\n",
        "bus_seat.append(bus_line.pop(0))\n",
        "bus_seat\n",
        "bus_line\n",
        "\n",
        "bus_seat.append(bus_line.pop(0))\n",
        "bus_seat.append(bus_line.pop(0))\n",
        "bus_seat.append(bus_line.pop(0))\n",
        "bus_seat"
      ],
      "metadata": {
        "colab": {
          "base_uri": "https://localhost:8080/"
        },
        "id": "JzbtYJ-Zhgaa",
        "outputId": "10efb940-a1de-4b7e-90d8-3817aae068db"
      },
      "execution_count": null,
      "outputs": [
        {
          "output_type": "execute_result",
          "data": {
            "text/plain": [
              "['구백년', '서교수', '김수몽', '이사슴', '박밀레', '최자하']"
            ]
          },
          "metadata": {},
          "execution_count": 5
        }
      ]
    },
    {
      "cell_type": "code",
      "source": [
        "bus_line = ['김수몽', '이사슴', '박밀레']\n",
        "bus_line.append('최자하')\n",
        "bus_line\n",
        "\n",
        "bus_seat = ['구백년', '서교수']\n",
        "bus_seat\n",
        "\n",
        "bus_total = bus_line + bus_seat\n",
        "print(bus_total)\n",
        "\n",
        "for bus_of_index in range(0,3):\n",
        "  bus_total.pop(0)\n",
        "  print(bus_total)"
      ],
      "metadata": {
        "colab": {
          "base_uri": "https://localhost:8080/"
        },
        "id": "JKSmT5dr1Nn4",
        "outputId": "4feacd2b-b2bd-47ed-df9c-e714256bb849"
      },
      "execution_count": null,
      "outputs": [
        {
          "output_type": "stream",
          "name": "stdout",
          "text": [
            "['김수몽', '이사슴', '박밀레', '최자하', '구백년', '서교수']\n",
            "['이사슴', '박밀레', '최자하', '구백년', '서교수']\n",
            "['박밀레', '최자하', '구백년', '서교수']\n",
            "['최자하', '구백년', '서교수']\n"
          ]
        }
      ]
    },
    {
      "cell_type": "code",
      "source": [],
      "metadata": {
        "id": "uxNWliQ61NhA"
      },
      "execution_count": null,
      "outputs": []
    }
  ]
}