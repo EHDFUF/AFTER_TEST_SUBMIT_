{
  "nbformat": 4,
  "nbformat_minor": 0,
  "metadata": {
    "colab": {
      "provenance": [],
      "authorship_tag": "ABX9TyM2vzXtkoqs2s7gOFRE3U9R",
      "include_colab_link": true
    },
    "kernelspec": {
      "name": "python3",
      "display_name": "Python 3"
    },
    "language_info": {
      "name": "python"
    }
  },
  "cells": [
    {
      "cell_type": "markdown",
      "metadata": {
        "id": "view-in-github",
        "colab_type": "text"
      },
      "source": [
        "<a href=\"https://colab.research.google.com/github/EHDFUF/10-weeks-sub/blob/10-weeks-sub/sequence.ipynb\" target=\"_parent\"><img src=\"https://colab.research.google.com/assets/colab-badge.svg\" alt=\"Open In Colab\"/></a>"
      ]
    },
    {
      "cell_type": "code",
      "execution_count": null,
      "metadata": {
        "colab": {
          "base_uri": "https://localhost:8080/"
        },
        "id": "JNkxGo1ryxmZ",
        "outputId": "6597091e-a80b-41b4-eecc-59d4efc1e303"
      },
      "outputs": [
        {
          "output_type": "stream",
          "name": "stdout",
          "text": [
            "안녕하세요? 파이썬에 오신 것을 환영합니다!\n",
            "프로그래밍 공부를 즐기셨으면 합니다!\n",
            "안녕!안녕!안녕!\n"
          ]
        }
      ],
      "source": [
        "print(\"안녕하세요? 파이썬에 오신 것을 환영합니다!\")\n",
        "print(\"프로그래밍 공부를 즐기셨으면 합니다!\")\n",
        "print(\"안녕!\" * 3)\n",
        "\n"
      ]
    },
    {
      "cell_type": "code",
      "source": [
        "print(\"프로그램 시작!\")"
      ],
      "metadata": {
        "id": "y6Z_bENpzC20"
      },
      "execution_count": null,
      "outputs": []
    },
    {
      "cell_type": "code",
      "source": [
        "a = 123\n",
        "print(a)\n",
        "\n",
        "a = \"파이썬\"\n",
        "print(a)\n",
        "\n",
        "a = [1, 2, 3]\n",
        "print(a)"
      ],
      "metadata": {
        "colab": {
          "base_uri": "https://localhost:8080/"
        },
        "id": "L_Wq5qSczDDh",
        "outputId": "d1b8ae2d-a662-4a07-f4e1-d84f6296af34"
      },
      "execution_count": null,
      "outputs": [
        {
          "output_type": "stream",
          "name": "stdout",
          "text": [
            "123\n",
            "파이썬\n",
            "[1, 2, 3]\n"
          ]
        }
      ]
    },
    {
      "cell_type": "code",
      "source": [
        "print(\"5*10의 결과값은\", 5*10, \"입니다\")\n",
        "\n",
        "a = \"상명\"\n",
        "\n",
        "print(\"여기는 \", a , \"대학교입니다\" )\n",
        "\n",
        "print(\"링딩동 \" * 3)"
      ],
      "metadata": {
        "colab": {
          "base_uri": "https://localhost:8080/"
        },
        "id": "6Dn7HYUQzQaq",
        "outputId": "83b79d05-103f-4f1e-aff9-e65538dd323c"
      },
      "execution_count": null,
      "outputs": [
        {
          "output_type": "stream",
          "name": "stdout",
          "text": [
            "5*10의 결과값은 50 입니다\n",
            "여기는  상명 대학교입니다\n",
            "링딩동 링딩동 링딩동 \n"
          ]
        }
      ]
    },
    {
      "cell_type": "code",
      "source": [
        "x = input(\"전화번호 입력\")\n",
        "print(x)"
      ],
      "metadata": {
        "colab": {
          "base_uri": "https://localhost:8080/"
        },
        "id": "uZvZAbzAzkqQ",
        "outputId": "84f5c5b7-0bf9-446e-b6b5-fb1d051c2f2a"
      },
      "execution_count": null,
      "outputs": [
        {
          "output_type": "stream",
          "name": "stdout",
          "text": [
            "전화번호 입력01049303419\n",
            "01049303419\n"
          ]
        }
      ]
    },
    {
      "cell_type": "markdown",
      "source": [],
      "metadata": {
        "id": "ZrOlpRgzzqrt"
      }
    },
    {
      "cell_type": "code",
      "source": [
        "x = int(input(\"구매할 감자개수 입력:\"))\n",
        "print(\"가격은\", 500 * x, \"원 입니다\")"
      ],
      "metadata": {
        "colab": {
          "base_uri": "https://localhost:8080/"
        },
        "id": "Kjjl_eXxzksb",
        "outputId": "d683622e-f972-4691-9476-35d87d7c26d9"
      },
      "execution_count": null,
      "outputs": [
        {
          "output_type": "stream",
          "name": "stdout",
          "text": [
            "구매할 감자개수 입력:2\n",
            "가격은 1000 원 입니다\n"
          ]
        }
      ]
    },
    {
      "cell_type": "code",
      "source": [
        "print(\"안녕? 나는 채팅봇\")\n",
        "name = input(\"이름이 머야?\")\n",
        "print(name, \"! 반가워!\")\n",
        "age = int(input(\"나 10살인데 너는 몇살?\"))\n",
        "print(f\"너는 {age}살이구나!\")"
      ],
      "metadata": {
        "colab": {
          "base_uri": "https://localhost:8080/"
        },
        "id": "2W6QmSrwz3qO",
        "outputId": "1c14e42c-e857-4340-e08e-01f76f976843"
      },
      "execution_count": null,
      "outputs": [
        {
          "output_type": "stream",
          "name": "stdout",
          "text": [
            "안녕? 나는 채팅봇\n",
            "이름이 머야?12\n",
            "12 ! 반가워!\n",
            "나 10살인데 너는 몇살?3\n",
            "너는 3살이구나!\n"
          ]
        }
      ]
    },
    {
      "cell_type": "code",
      "source": [
        "print(\"평균 학점 계산해드림\")\n",
        "math = int(input(\"수학 점수 입력:\"))\n",
        "eng = int(input(\"영어 점수 입력:\"))\n",
        "print(\"평균 학점은\", (math + eng)/2 ,\"입니다.\")"
      ],
      "metadata": {
        "colab": {
          "base_uri": "https://localhost:8080/"
        },
        "id": "s1ZkQ7lBz348",
        "outputId": "c5b607d0-a94d-46f4-f706-daae006f1c7b"
      },
      "execution_count": null,
      "outputs": [
        {
          "output_type": "stream",
          "name": "stdout",
          "text": [
            "평균 학점 계산해드림\n",
            "수학 점수 입력:1\n",
            "영어 점수 입력:2\n",
            "평균 학점은 1.5 입니다.\n"
          ]
        }
      ]
    },
    {
      "cell_type": "markdown",
      "source": [],
      "metadata": {
        "id": "3ztTvC-D0h-7"
      }
    },
    {
      "cell_type": "code",
      "source": [
        "print(\"평균 학점 계산해드림\")\n",
        "math = int(input(\"수학 점수 입력:\"))\n",
        "eng = int(input(\"영어 점수 입력:\"))\n",
        "kor = int(input(\"국어 점수 입력:\"))\n",
        "sci = int(input(\"과학 점수 입력:\"))\n",
        "print(\"평균 학점은\", (math + eng + kor + sci)/4 ,\"입니다.\")"
      ],
      "metadata": {
        "colab": {
          "base_uri": "https://localhost:8080/"
        },
        "id": "A729Uh_90WDD",
        "outputId": "31881065-2dc7-4a43-a31e-fbf3d16141bd"
      },
      "execution_count": null,
      "outputs": [
        {
          "output_type": "stream",
          "name": "stdout",
          "text": [
            "평균 학점 계산해드림\n",
            "수학 점수 입력:1\n",
            "영어 점수 입력:2\n",
            "국어 점수 입력:3\n",
            "과학 점수 입력:4\n",
            "평균 학점은 2.5 입니다.\n"
          ]
        },
        {
          "output_type": "execute_result",
          "data": {
            "text/plain": [
              "3"
            ]
          },
          "metadata": {},
          "execution_count": 10
        }
      ]
    }
  ]
}
